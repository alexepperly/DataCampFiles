{
 "cells": [
  {
   "attachments": {},
   "cell_type": "markdown",
   "metadata": {},
   "source": [
    "## JavaScript\n",
    "```\n",
    "const elements = document.querySelectorAll(\"body > div.site-wrap > div.container.dc-u-mt-48 > div > div.col-md-8 > div:nth-child(1) > div > ul > * > article > div > a > div.course-block__body > h4\");\n",
    "```\n",
    "**THEN**\n",
    "\n",
    "```\n",
    "for (let i = 0; i < elements.length; i++) {\n",
    "  console.log(elements[i].textContent)};\n",
    "```\n",
    " **OR**\n",
    "```\n",
    "\n",
    "let textValues = [];\n",
    "for (let i = 0; i < elements.length; i++) {\n",
    "  textValues.push(elements[i].textContent);\n",
    "}\n",
    "console.log(textValues.join(', '));\n",
    "```"
   ]
  },
  {
   "cell_type": "code",
   "execution_count": 1,
   "metadata": {},
   "outputs": [],
   "source": [
    "\n",
    "# RESULT:\n",
    "\n",
    "result = \"Understanding Data Engineering, Introduction to Data Engineering, Streamlined Data Ingestion with pandas, Writing Efficient Python Code, Writing Functions in Python, Introduction to Shell, Data Processing in Shell, Introduction to Bash Scripting, Unit Testing for Data Science in Python, Object-Oriented Programming in Python, Introduction to Airflow in Python, Introduction to PySpark, Introduction to AWS Boto in Python, Introduction to Relational Databases in SQL, Database Design, Introduction to Scala, Big Data Fundamentals with PySpark, Cleaning Data with PySpark, Introduction to MongoDB in Python\""
   ]
  },
  {
   "cell_type": "code",
   "execution_count": 7,
   "metadata": {},
   "outputs": [],
   "source": [
    "# Split the comma-separated string into a list then use enumerate and dict comp to turn it into a numbered dictionary\n",
    "result_split = {i: course for i, course in enumerate(result.split(\", \"))}\n"
   ]
  },
  {
   "cell_type": "code",
   "execution_count": 8,
   "metadata": {},
   "outputs": [
    {
     "data": {
      "text/plain": [
       "{0: 'Understanding Data Engineering',\n",
       " 1: 'Introduction to Data Engineering',\n",
       " 2: 'Streamlined Data Ingestion with pandas',\n",
       " 3: 'Writing Efficient Python Code',\n",
       " 4: 'Writing Functions in Python',\n",
       " 5: 'Introduction to Shell',\n",
       " 6: 'Data Processing in Shell',\n",
       " 7: 'Introduction to Bash Scripting',\n",
       " 8: 'Unit Testing for Data Science in Python',\n",
       " 9: 'Object-Oriented Programming in Python',\n",
       " 10: 'Introduction to Airflow in Python',\n",
       " 11: 'Introduction to PySpark',\n",
       " 12: 'Introduction to AWS Boto in Python',\n",
       " 13: 'Introduction to Relational Databases in SQL',\n",
       " 14: 'Database Design',\n",
       " 15: 'Introduction to Scala',\n",
       " 16: 'Big Data Fundamentals with PySpark',\n",
       " 17: 'Cleaning Data with PySpark',\n",
       " 18: 'Introduction to MongoDB in Python'}"
      ]
     },
     "execution_count": 8,
     "metadata": {},
     "output_type": "execute_result"
    }
   ],
   "source": [
    "result_split"
   ]
  },
  {
   "cell_type": "code",
   "execution_count": null,
   "metadata": {},
   "outputs": [],
   "source": []
  }
 ],
 "metadata": {
  "kernelspec": {
   "display_name": "base",
   "language": "python",
   "name": "python3"
  },
  "language_info": {
   "codemirror_mode": {
    "name": "ipython",
    "version": 3
   },
   "file_extension": ".py",
   "mimetype": "text/x-python",
   "name": "python",
   "nbconvert_exporter": "python",
   "pygments_lexer": "ipython3",
   "version": "3.9.15 (main, Nov  4 2022, 16:35:55) [MSC v.1916 64 bit (AMD64)]"
  },
  "orig_nbformat": 4,
  "vscode": {
   "interpreter": {
    "hash": "a345a3a79d4b6bd5e480ddf750d44eeab3f426a0af8a6d1a3c614a22f4e377a2"
   }
  }
 },
 "nbformat": 4,
 "nbformat_minor": 2
}
