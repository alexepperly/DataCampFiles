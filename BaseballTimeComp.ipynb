{
 "cells": [
  {
   "attachments": {},
   "cell_type": "markdown",
   "metadata": {},
   "source": [
    "# Timing tests between loop and vectorized functions"
   ]
  },
  {
   "cell_type": "code",
   "execution_count": null,
   "metadata": {},
   "outputs": [],
   "source": [
    "def calc_win_perc(wins, games_played):\n",
    "    win_perc = wins / games_played\n",
    "    return np.round(win_perc,2)"
   ]
  },
  {
   "attachments": {},
   "cell_type": "markdown",
   "metadata": {},
   "source": [
    "### Here's the for loop with loc and iloc\n",
    "### ## Returns ~ 78.2 ms ± 1.8 ms per loop (mean ± std. dev. of 7 runs, 10 loops each)"
   ]
  },
  {
   "cell_type": "code",
   "execution_count": null,
   "metadata": {},
   "outputs": [
    {
     "name": "stdout",
     "output_type": "stream",
     "text": [
      "78.8 ms ± 1.54 ms per loop (mean ± std. dev. of 7 runs, 10 loops each)\n"
     ]
    }
   ],
   "source": [
    "%%timeit\n",
    "\n",
    "win_percs_list = []\n",
    "\n",
    "for i in range(len(baseball_df)):\n",
    "    row = baseball_df.iloc[i]\n",
    "\n",
    "    wins = row['W']\n",
    "    games_played = row['G']\n",
    "\n",
    "    win_perc = calc_win_perc(wins, games_played)\n",
    "\n",
    "    win_percs_list.append(win_perc)\n",
    "\n",
    "baseball_df['WP'] = win_percs_list"
   ]
  },
  {
   "attachments": {},
   "cell_type": "markdown",
   "metadata": {},
   "source": [
    "## And here's the numpy version\n",
    "### (Returns ~53.2 µs ± 434 ns per loop (mean ± std. dev. of 7 runs, 10,000 loops each) )"
   ]
  },
  {
   "cell_type": "code",
   "execution_count": null,
   "metadata": {},
   "outputs": [
    {
     "name": "stdout",
     "output_type": "stream",
     "text": [
      "53.2 µs ± 434 ns per loop (mean ± std. dev. of 7 runs, 10,000 loops each)\n"
     ]
    }
   ],
   "source": [
    "%%timeit\n",
    "\n",
    "win_percs_np = calc_win_perc(baseball_df['W'].values, baseball_df['G'].values)\n",
    "baseball_df['WP'] = win_percs_np"
   ]
  },
  {
   "attachments": {},
   "cell_type": "markdown",
   "metadata": {},
   "source": [
    "There are 1,000 microseconds (µs) in 1 millisecond (ms), so:"
   ]
  },
  {
   "cell_type": "code",
   "execution_count": null,
   "metadata": {},
   "outputs": [
    {
     "name": "stdout",
     "output_type": "stream",
     "text": [
      "The Numpy function was 1481.203007518797 times faster than the old fashioned pandas loop/loc version.\n"
     ]
    }
   ],
   "source": [
    "def ms_micro_comp(milli, us):\n",
    "    ms = milli*1000\n",
    "    comp = ms/us\n",
    "    print(f'The Numpy function was {comp} times faster than the old fashioned pandas loop/loc version.')\n",
    "\n",
    "ms_micro_comp(78.8, 53.2)"
   ]
  }
 ],
 "metadata": {
  "kernelspec": {
   "display_name": "base",
   "language": "python",
   "name": "python3"
  },
  "language_info": {
   "name": "python",
   "version": "3.9.12 (main, Apr  5 2022, 01:53:17) \n[Clang 12.0.0 ]"
  },
  "orig_nbformat": 4,
  "vscode": {
   "interpreter": {
    "hash": "ba4959ed769923c7c7779cf615c3f4552d8348c3c788a158f96a2a3da27ac90d"
   }
  }
 },
 "nbformat": 4,
 "nbformat_minor": 2
}
