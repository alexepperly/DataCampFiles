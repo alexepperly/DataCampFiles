{
 "cells": [
  {
   "cell_type": "code",
   "execution_count": 70,
   "metadata": {},
   "outputs": [],
   "source": [
    "import pandas as pd\n",
    "import numpy as np\n",
    "from datetime import datetime, timedelta, timezone\n",
    "from dateutil import tz\n",
    "import pytz\n"
   ]
  },
  {
   "cell_type": "code",
   "execution_count": 2,
   "metadata": {},
   "outputs": [],
   "source": [
    "onebike_df = pd.read_csv('data/capital-onebike.csv')\n",
    "#if you want to skip all the bullshit about converting dates,\n",
    "#you can do ('data', parse_dates = ['Start date', 'End date'])"
   ]
  },
  {
   "cell_type": "code",
   "execution_count": 3,
   "metadata": {},
   "outputs": [
    {
     "name": "stdout",
     "output_type": "stream",
     "text": [
      "<class 'pandas.core.frame.DataFrame'>\n",
      "RangeIndex: 290 entries, 0 to 289\n",
      "Data columns (total 8 columns):\n",
      " #   Column                Non-Null Count  Dtype \n",
      "---  ------                --------------  ----- \n",
      " 0   Start date            290 non-null    object\n",
      " 1   End date              290 non-null    object\n",
      " 2   Start station number  290 non-null    int64 \n",
      " 3   Start station         290 non-null    object\n",
      " 4   End station number    290 non-null    int64 \n",
      " 5   End station           290 non-null    object\n",
      " 6   Bike number           290 non-null    object\n",
      " 7   Member type           290 non-null    object\n",
      "dtypes: int64(2), object(6)\n",
      "memory usage: 18.2+ KB\n"
     ]
    }
   ],
   "source": [
    "onebike_df.info()"
   ]
  },
  {
   "cell_type": "code",
   "execution_count": 21,
   "metadata": {},
   "outputs": [
    {
     "data": {
      "text/html": [
       "<div>\n",
       "<style scoped>\n",
       "    .dataframe tbody tr th:only-of-type {\n",
       "        vertical-align: middle;\n",
       "    }\n",
       "\n",
       "    .dataframe tbody tr th {\n",
       "        vertical-align: top;\n",
       "    }\n",
       "\n",
       "    .dataframe thead th {\n",
       "        text-align: right;\n",
       "    }\n",
       "</style>\n",
       "<table border=\"1\" class=\"dataframe\">\n",
       "  <thead>\n",
       "    <tr style=\"text-align: right;\">\n",
       "      <th></th>\n",
       "      <th>Start date</th>\n",
       "      <th>End date</th>\n",
       "      <th>Start station number</th>\n",
       "      <th>Start station</th>\n",
       "      <th>End station number</th>\n",
       "      <th>End station</th>\n",
       "      <th>Bike number</th>\n",
       "      <th>Member type</th>\n",
       "    </tr>\n",
       "  </thead>\n",
       "  <tbody>\n",
       "    <tr>\n",
       "      <th>0</th>\n",
       "      <td>2017-10-01 15:23:25</td>\n",
       "      <td>2017-10-01 15:26:26</td>\n",
       "      <td>31038</td>\n",
       "      <td>Glebe Rd &amp; 11th St N</td>\n",
       "      <td>31036</td>\n",
       "      <td>George Mason Dr &amp; Wilson Blvd</td>\n",
       "      <td>W20529</td>\n",
       "      <td>Member</td>\n",
       "    </tr>\n",
       "    <tr>\n",
       "      <th>1</th>\n",
       "      <td>2017-10-01 15:42:57</td>\n",
       "      <td>2017-10-01 17:49:59</td>\n",
       "      <td>31036</td>\n",
       "      <td>George Mason Dr &amp; Wilson Blvd</td>\n",
       "      <td>31036</td>\n",
       "      <td>George Mason Dr &amp; Wilson Blvd</td>\n",
       "      <td>W20529</td>\n",
       "      <td>Casual</td>\n",
       "    </tr>\n",
       "    <tr>\n",
       "      <th>2</th>\n",
       "      <td>2017-10-02 06:37:10</td>\n",
       "      <td>2017-10-02 06:42:53</td>\n",
       "      <td>31036</td>\n",
       "      <td>George Mason Dr &amp; Wilson Blvd</td>\n",
       "      <td>31037</td>\n",
       "      <td>Ballston Metro / N Stuart &amp; 9th St N</td>\n",
       "      <td>W20529</td>\n",
       "      <td>Member</td>\n",
       "    </tr>\n",
       "    <tr>\n",
       "      <th>3</th>\n",
       "      <td>2017-10-02 08:56:45</td>\n",
       "      <td>2017-10-02 09:18:03</td>\n",
       "      <td>31037</td>\n",
       "      <td>Ballston Metro / N Stuart &amp; 9th St N</td>\n",
       "      <td>31295</td>\n",
       "      <td>Potomac &amp; M St NW</td>\n",
       "      <td>W20529</td>\n",
       "      <td>Member</td>\n",
       "    </tr>\n",
       "    <tr>\n",
       "      <th>4</th>\n",
       "      <td>2017-10-02 18:23:48</td>\n",
       "      <td>2017-10-02 18:45:05</td>\n",
       "      <td>31295</td>\n",
       "      <td>Potomac &amp; M St NW</td>\n",
       "      <td>31230</td>\n",
       "      <td>Metro Center / 12th &amp; G St NW</td>\n",
       "      <td>W20529</td>\n",
       "      <td>Member</td>\n",
       "    </tr>\n",
       "  </tbody>\n",
       "</table>\n",
       "</div>"
      ],
      "text/plain": [
       "            Start date             End date  Start station number  \\\n",
       "0  2017-10-01 15:23:25  2017-10-01 15:26:26                 31038   \n",
       "1  2017-10-01 15:42:57  2017-10-01 17:49:59                 31036   \n",
       "2  2017-10-02 06:37:10  2017-10-02 06:42:53                 31036   \n",
       "3  2017-10-02 08:56:45  2017-10-02 09:18:03                 31037   \n",
       "4  2017-10-02 18:23:48  2017-10-02 18:45:05                 31295   \n",
       "\n",
       "                          Start station  End station number  \\\n",
       "0                  Glebe Rd & 11th St N               31036   \n",
       "1         George Mason Dr & Wilson Blvd               31036   \n",
       "2         George Mason Dr & Wilson Blvd               31037   \n",
       "3  Ballston Metro / N Stuart & 9th St N               31295   \n",
       "4                     Potomac & M St NW               31230   \n",
       "\n",
       "                            End station Bike number Member type  \n",
       "0         George Mason Dr & Wilson Blvd      W20529      Member  \n",
       "1         George Mason Dr & Wilson Blvd      W20529      Casual  \n",
       "2  Ballston Metro / N Stuart & 9th St N      W20529      Member  \n",
       "3                     Potomac & M St NW      W20529      Member  \n",
       "4         Metro Center / 12th & G St NW      W20529      Member  "
      ]
     },
     "execution_count": 21,
     "metadata": {},
     "output_type": "execute_result"
    }
   ],
   "source": [
    "onebike_df.head()"
   ]
  },
  {
   "cell_type": "code",
   "execution_count": 23,
   "metadata": {},
   "outputs": [],
   "source": [
    "onebike_df['Start date'] = pd.to_datetime(onebike_df['Start date'])\n",
    "onebike_df['End date'] = pd.to_datetime(onebike_df['End date'])"
   ]
  },
  {
   "cell_type": "code",
   "execution_count": 27,
   "metadata": {},
   "outputs": [],
   "source": [
    "time_diff = onebike_df['End date'] - onebike_df['Start date']"
   ]
  },
  {
   "cell_type": "code",
   "execution_count": 28,
   "metadata": {},
   "outputs": [],
   "source": [
    "onebike_df['Trip duration'] = time_diff"
   ]
  },
  {
   "cell_type": "code",
   "execution_count": 31,
   "metadata": {},
   "outputs": [
    {
     "data": {
      "text/plain": [
       "['Start date',\n",
       " 'End date',\n",
       " 'Start station number',\n",
       " 'Start station',\n",
       " 'End station number',\n",
       " 'End station',\n",
       " 'Bike number',\n",
       " 'Member type',\n",
       " 'Trip duration']"
      ]
     },
     "execution_count": 31,
     "metadata": {},
     "output_type": "execute_result"
    }
   ],
   "source": [
    "cols = onebike_df.columns.to_list()\n",
    "cols"
   ]
  },
  {
   "cell_type": "code",
   "execution_count": 34,
   "metadata": {},
   "outputs": [],
   "source": [
    "cols_updated = ['Bike number',\n",
    "'Start date',\n",
    " 'End date',\n",
    "'Trip duration',\n",
    " 'Start station number',\n",
    " 'Start station',\n",
    " 'End station number',\n",
    " 'End station',\n",
    " 'Member type',]"
   ]
  },
  {
   "cell_type": "code",
   "execution_count": 36,
   "metadata": {},
   "outputs": [],
   "source": [
    "onebike_df= onebike_df[cols_updated]"
   ]
  },
  {
   "cell_type": "code",
   "execution_count": 40,
   "metadata": {},
   "outputs": [
    {
     "data": {
      "text/html": [
       "<div>\n",
       "<style scoped>\n",
       "    .dataframe tbody tr th:only-of-type {\n",
       "        vertical-align: middle;\n",
       "    }\n",
       "\n",
       "    .dataframe tbody tr th {\n",
       "        vertical-align: top;\n",
       "    }\n",
       "\n",
       "    .dataframe thead th {\n",
       "        text-align: right;\n",
       "    }\n",
       "</style>\n",
       "<table border=\"1\" class=\"dataframe\">\n",
       "  <thead>\n",
       "    <tr style=\"text-align: right;\">\n",
       "      <th></th>\n",
       "      <th>Bike number</th>\n",
       "      <th>Start date</th>\n",
       "      <th>End date</th>\n",
       "      <th>Trip duration</th>\n",
       "      <th>Start station number</th>\n",
       "      <th>Start station</th>\n",
       "      <th>End station number</th>\n",
       "      <th>End station</th>\n",
       "      <th>Member type</th>\n",
       "    </tr>\n",
       "  </thead>\n",
       "  <tbody>\n",
       "    <tr>\n",
       "      <th>86</th>\n",
       "      <td>W20529</td>\n",
       "      <td>2017-10-21 13:47:43</td>\n",
       "      <td>2017-10-22 11:09:36</td>\n",
       "      <td>0 days 21:21:53</td>\n",
       "      <td>31616</td>\n",
       "      <td>3rd &amp; H St NE</td>\n",
       "      <td>31607</td>\n",
       "      <td>14th &amp; D St SE</td>\n",
       "      <td>Member</td>\n",
       "    </tr>\n",
       "    <tr>\n",
       "      <th>96</th>\n",
       "      <td>W20529</td>\n",
       "      <td>2017-10-23 11:29:36</td>\n",
       "      <td>2017-10-23 14:38:34</td>\n",
       "      <td>0 days 03:08:58</td>\n",
       "      <td>31258</td>\n",
       "      <td>Lincoln Memorial</td>\n",
       "      <td>31289</td>\n",
       "      <td>Henry Bacon Dr &amp; Lincoln Memorial Circle NW</td>\n",
       "      <td>Casual</td>\n",
       "    </tr>\n",
       "    <tr>\n",
       "      <th>172</th>\n",
       "      <td>W20529</td>\n",
       "      <td>2017-11-17 13:45:54</td>\n",
       "      <td>2017-11-17 16:36:56</td>\n",
       "      <td>0 days 02:51:02</td>\n",
       "      <td>31112</td>\n",
       "      <td>Harvard St &amp; Adams Mill Rd NW</td>\n",
       "      <td>31296</td>\n",
       "      <td>Columbia &amp; Ontario Rd NW</td>\n",
       "      <td>Casual</td>\n",
       "    </tr>\n",
       "    <tr>\n",
       "      <th>99</th>\n",
       "      <td>W20529</td>\n",
       "      <td>2017-10-23 17:13:16</td>\n",
       "      <td>2017-10-23 19:31:26</td>\n",
       "      <td>0 days 02:18:10</td>\n",
       "      <td>31258</td>\n",
       "      <td>Lincoln Memorial</td>\n",
       "      <td>31258</td>\n",
       "      <td>Lincoln Memorial</td>\n",
       "      <td>Casual</td>\n",
       "    </tr>\n",
       "    <tr>\n",
       "      <th>1</th>\n",
       "      <td>W20529</td>\n",
       "      <td>2017-10-01 15:42:57</td>\n",
       "      <td>2017-10-01 17:49:59</td>\n",
       "      <td>0 days 02:07:02</td>\n",
       "      <td>31036</td>\n",
       "      <td>George Mason Dr &amp; Wilson Blvd</td>\n",
       "      <td>31036</td>\n",
       "      <td>George Mason Dr &amp; Wilson Blvd</td>\n",
       "      <td>Casual</td>\n",
       "    </tr>\n",
       "    <tr>\n",
       "      <th>98</th>\n",
       "      <td>W20529</td>\n",
       "      <td>2017-10-23 15:33:48</td>\n",
       "      <td>2017-10-23 17:06:47</td>\n",
       "      <td>0 days 01:32:59</td>\n",
       "      <td>31240</td>\n",
       "      <td>Ohio Dr &amp; West Basin Dr SW / MLK &amp; FDR Memorials</td>\n",
       "      <td>31258</td>\n",
       "      <td>Lincoln Memorial</td>\n",
       "      <td>Casual</td>\n",
       "    </tr>\n",
       "    <tr>\n",
       "      <th>43</th>\n",
       "      <td>W20529</td>\n",
       "      <td>2017-10-08 14:16:40</td>\n",
       "      <td>2017-10-08 15:07:19</td>\n",
       "      <td>0 days 00:50:39</td>\n",
       "      <td>31258</td>\n",
       "      <td>Lincoln Memorial</td>\n",
       "      <td>31277</td>\n",
       "      <td>17th &amp; G St NW</td>\n",
       "      <td>Member</td>\n",
       "    </tr>\n",
       "    <tr>\n",
       "      <th>128</th>\n",
       "      <td>W20529</td>\n",
       "      <td>2017-11-04 18:10:34</td>\n",
       "      <td>2017-11-04 18:58:44</td>\n",
       "      <td>0 days 00:48:10</td>\n",
       "      <td>31225</td>\n",
       "      <td>C &amp; O Canal &amp; Wisconsin Ave NW</td>\n",
       "      <td>31615</td>\n",
       "      <td>6th &amp; H St NE</td>\n",
       "      <td>Member</td>\n",
       "    </tr>\n",
       "    <tr>\n",
       "      <th>17</th>\n",
       "      <td>W20529</td>\n",
       "      <td>2017-10-04 15:46:41</td>\n",
       "      <td>2017-10-04 16:32:33</td>\n",
       "      <td>0 days 00:45:52</td>\n",
       "      <td>31240</td>\n",
       "      <td>Ohio Dr &amp; West Basin Dr SW / MLK &amp; FDR Memorials</td>\n",
       "      <td>31277</td>\n",
       "      <td>17th &amp; G St NW</td>\n",
       "      <td>Casual</td>\n",
       "    </tr>\n",
       "    <tr>\n",
       "      <th>218</th>\n",
       "      <td>W20529</td>\n",
       "      <td>2017-12-03 17:20:17</td>\n",
       "      <td>2017-12-03 18:04:33</td>\n",
       "      <td>0 days 00:44:16</td>\n",
       "      <td>31265</td>\n",
       "      <td>5th St &amp; Massachusetts Ave NW</td>\n",
       "      <td>31265</td>\n",
       "      <td>5th St &amp; Massachusetts Ave NW</td>\n",
       "      <td>Casual</td>\n",
       "    </tr>\n",
       "  </tbody>\n",
       "</table>\n",
       "</div>"
      ],
      "text/plain": [
       "    Bike number          Start date            End date   Trip duration  \\\n",
       "86       W20529 2017-10-21 13:47:43 2017-10-22 11:09:36 0 days 21:21:53   \n",
       "96       W20529 2017-10-23 11:29:36 2017-10-23 14:38:34 0 days 03:08:58   \n",
       "172      W20529 2017-11-17 13:45:54 2017-11-17 16:36:56 0 days 02:51:02   \n",
       "99       W20529 2017-10-23 17:13:16 2017-10-23 19:31:26 0 days 02:18:10   \n",
       "1        W20529 2017-10-01 15:42:57 2017-10-01 17:49:59 0 days 02:07:02   \n",
       "98       W20529 2017-10-23 15:33:48 2017-10-23 17:06:47 0 days 01:32:59   \n",
       "43       W20529 2017-10-08 14:16:40 2017-10-08 15:07:19 0 days 00:50:39   \n",
       "128      W20529 2017-11-04 18:10:34 2017-11-04 18:58:44 0 days 00:48:10   \n",
       "17       W20529 2017-10-04 15:46:41 2017-10-04 16:32:33 0 days 00:45:52   \n",
       "218      W20529 2017-12-03 17:20:17 2017-12-03 18:04:33 0 days 00:44:16   \n",
       "\n",
       "     Start station number                                     Start station  \\\n",
       "86                  31616                                     3rd & H St NE   \n",
       "96                  31258                                  Lincoln Memorial   \n",
       "172                 31112                     Harvard St & Adams Mill Rd NW   \n",
       "99                  31258                                  Lincoln Memorial   \n",
       "1                   31036                     George Mason Dr & Wilson Blvd   \n",
       "98                  31240  Ohio Dr & West Basin Dr SW / MLK & FDR Memorials   \n",
       "43                  31258                                  Lincoln Memorial   \n",
       "128                 31225                    C & O Canal & Wisconsin Ave NW   \n",
       "17                  31240  Ohio Dr & West Basin Dr SW / MLK & FDR Memorials   \n",
       "218                 31265                     5th St & Massachusetts Ave NW   \n",
       "\n",
       "     End station number                                  End station  \\\n",
       "86                31607                               14th & D St SE   \n",
       "96                31289  Henry Bacon Dr & Lincoln Memorial Circle NW   \n",
       "172               31296                     Columbia & Ontario Rd NW   \n",
       "99                31258                             Lincoln Memorial   \n",
       "1                 31036                George Mason Dr & Wilson Blvd   \n",
       "98                31258                             Lincoln Memorial   \n",
       "43                31277                               17th & G St NW   \n",
       "128               31615                                6th & H St NE   \n",
       "17                31277                               17th & G St NW   \n",
       "218               31265                5th St & Massachusetts Ave NW   \n",
       "\n",
       "    Member type  \n",
       "86       Member  \n",
       "96       Casual  \n",
       "172      Casual  \n",
       "99       Casual  \n",
       "1        Casual  \n",
       "98       Casual  \n",
       "43       Member  \n",
       "128      Member  \n",
       "17       Casual  \n",
       "218      Casual  "
      ]
     },
     "execution_count": 40,
     "metadata": {},
     "output_type": "execute_result"
    }
   ],
   "source": [
    "onebike_df.sort_values('Trip duration', ascending=False)[:10]"
   ]
  },
  {
   "cell_type": "code",
   "execution_count": 61,
   "metadata": {},
   "outputs": [],
   "source": [
    "est = tz.gettz('America/New_York')"
   ]
  },
  {
   "cell_type": "code",
   "execution_count": 62,
   "metadata": {},
   "outputs": [
    {
     "name": "stdout",
     "output_type": "stream",
     "text": [
      "tzfile('US/Eastern')\n"
     ]
    }
   ],
   "source": [
    "print(est)"
   ]
  },
  {
   "cell_type": "code",
   "execution_count": 63,
   "metadata": {},
   "outputs": [
    {
     "data": {
      "text/plain": [
       "<module 'dateutil.tz' from 'c:\\\\Users\\\\alexe\\\\anaconda3\\\\lib\\\\site-packages\\\\dateutil\\\\tz\\\\__init__.py'>"
      ]
     },
     "execution_count": 63,
     "metadata": {},
     "output_type": "execute_result"
    }
   ],
   "source": [
    "tz # Prints module onject"
   ]
  },
  {
   "cell_type": "code",
   "execution_count": 74,
   "metadata": {},
   "outputs": [
    {
     "ename": "AttributeError",
     "evalue": "Can only use .dt accessor with datetimelike values",
     "output_type": "error",
     "traceback": [
      "\u001b[1;31m---------------------------------------------------------------------------\u001b[0m",
      "\u001b[1;31mAttributeError\u001b[0m                            Traceback (most recent call last)",
      "\u001b[1;32m~\\AppData\\Local\\Temp\\ipykernel_27396\\1682709681.py\u001b[0m in \u001b[0;36m<module>\u001b[1;34m\u001b[0m\n\u001b[0;32m      1\u001b[0m \u001b[1;31m# Convert Trip duration into total_seconds\u001b[0m\u001b[1;33m\u001b[0m\u001b[1;33m\u001b[0m\u001b[0m\n\u001b[0;32m      2\u001b[0m \u001b[0monebike_df\u001b[0m\u001b[1;33m[\u001b[0m\u001b[1;34m'Trip duration'\u001b[0m\u001b[1;33m]\u001b[0m \u001b[1;33m=\u001b[0m\u001b[0;31m \u001b[0m\u001b[0;31m\\\u001b[0m\u001b[1;33m\u001b[0m\u001b[1;33m\u001b[0m\u001b[0m\n\u001b[1;32m----> 3\u001b[1;33m     \u001b[0monebike_df\u001b[0m\u001b[1;33m[\u001b[0m\u001b[1;34m'Trip duration'\u001b[0m\u001b[1;33m]\u001b[0m\u001b[1;33m.\u001b[0m\u001b[0mdt\u001b[0m\u001b[1;33m.\u001b[0m\u001b[0mtotal_seconds\u001b[0m\u001b[1;33m(\u001b[0m\u001b[1;33m)\u001b[0m \u001b[1;31m# Must use .dt\u001b[0m\u001b[1;33m\u001b[0m\u001b[1;33m\u001b[0m\u001b[0m\n\u001b[0m",
      "\u001b[1;32mc:\\Users\\alexe\\anaconda3\\lib\\site-packages\\pandas\\core\\generic.py\u001b[0m in \u001b[0;36m__getattr__\u001b[1;34m(self, name)\u001b[0m\n\u001b[0;32m   5573\u001b[0m         ):\n\u001b[0;32m   5574\u001b[0m             \u001b[1;32mreturn\u001b[0m \u001b[0mself\u001b[0m\u001b[1;33m[\u001b[0m\u001b[0mname\u001b[0m\u001b[1;33m]\u001b[0m\u001b[1;33m\u001b[0m\u001b[1;33m\u001b[0m\u001b[0m\n\u001b[1;32m-> 5575\u001b[1;33m         \u001b[1;32mreturn\u001b[0m \u001b[0mobject\u001b[0m\u001b[1;33m.\u001b[0m\u001b[0m__getattribute__\u001b[0m\u001b[1;33m(\u001b[0m\u001b[0mself\u001b[0m\u001b[1;33m,\u001b[0m \u001b[0mname\u001b[0m\u001b[1;33m)\u001b[0m\u001b[1;33m\u001b[0m\u001b[1;33m\u001b[0m\u001b[0m\n\u001b[0m\u001b[0;32m   5576\u001b[0m \u001b[1;33m\u001b[0m\u001b[0m\n\u001b[0;32m   5577\u001b[0m     \u001b[1;32mdef\u001b[0m \u001b[0m__setattr__\u001b[0m\u001b[1;33m(\u001b[0m\u001b[0mself\u001b[0m\u001b[1;33m,\u001b[0m \u001b[0mname\u001b[0m\u001b[1;33m:\u001b[0m \u001b[0mstr\u001b[0m\u001b[1;33m,\u001b[0m \u001b[0mvalue\u001b[0m\u001b[1;33m)\u001b[0m \u001b[1;33m->\u001b[0m \u001b[1;32mNone\u001b[0m\u001b[1;33m:\u001b[0m\u001b[1;33m\u001b[0m\u001b[1;33m\u001b[0m\u001b[0m\n",
      "\u001b[1;32mc:\\Users\\alexe\\anaconda3\\lib\\site-packages\\pandas\\core\\accessor.py\u001b[0m in \u001b[0;36m__get__\u001b[1;34m(self, obj, cls)\u001b[0m\n\u001b[0;32m    180\u001b[0m             \u001b[1;31m# we're accessing the attribute of the class, i.e., Dataset.geo\u001b[0m\u001b[1;33m\u001b[0m\u001b[1;33m\u001b[0m\u001b[0m\n\u001b[0;32m    181\u001b[0m             \u001b[1;32mreturn\u001b[0m \u001b[0mself\u001b[0m\u001b[1;33m.\u001b[0m\u001b[0m_accessor\u001b[0m\u001b[1;33m\u001b[0m\u001b[1;33m\u001b[0m\u001b[0m\n\u001b[1;32m--> 182\u001b[1;33m         \u001b[0maccessor_obj\u001b[0m \u001b[1;33m=\u001b[0m \u001b[0mself\u001b[0m\u001b[1;33m.\u001b[0m\u001b[0m_accessor\u001b[0m\u001b[1;33m(\u001b[0m\u001b[0mobj\u001b[0m\u001b[1;33m)\u001b[0m\u001b[1;33m\u001b[0m\u001b[1;33m\u001b[0m\u001b[0m\n\u001b[0m\u001b[0;32m    183\u001b[0m         \u001b[1;31m# Replace the property with the accessor object. Inspired by:\u001b[0m\u001b[1;33m\u001b[0m\u001b[1;33m\u001b[0m\u001b[0m\n\u001b[0;32m    184\u001b[0m         \u001b[1;31m# https://www.pydanny.com/cached-property.html\u001b[0m\u001b[1;33m\u001b[0m\u001b[1;33m\u001b[0m\u001b[0m\n",
      "\u001b[1;32mc:\\Users\\alexe\\anaconda3\\lib\\site-packages\\pandas\\core\\indexes\\accessors.py\u001b[0m in \u001b[0;36m__new__\u001b[1;34m(cls, data)\u001b[0m\n\u001b[0;32m    507\u001b[0m             \u001b[1;32mreturn\u001b[0m \u001b[0mPeriodProperties\u001b[0m\u001b[1;33m(\u001b[0m\u001b[0mdata\u001b[0m\u001b[1;33m,\u001b[0m \u001b[0morig\u001b[0m\u001b[1;33m)\u001b[0m\u001b[1;33m\u001b[0m\u001b[1;33m\u001b[0m\u001b[0m\n\u001b[0;32m    508\u001b[0m \u001b[1;33m\u001b[0m\u001b[0m\n\u001b[1;32m--> 509\u001b[1;33m         \u001b[1;32mraise\u001b[0m \u001b[0mAttributeError\u001b[0m\u001b[1;33m(\u001b[0m\u001b[1;34m\"Can only use .dt accessor with datetimelike values\"\u001b[0m\u001b[1;33m)\u001b[0m\u001b[1;33m\u001b[0m\u001b[1;33m\u001b[0m\u001b[0m\n\u001b[0m",
      "\u001b[1;31mAttributeError\u001b[0m: Can only use .dt accessor with datetimelike values"
     ]
    }
   ],
   "source": [
    "# Convert Trip duration into total_seconds\n",
    "onebike_df['Trip duration'] = \\\n",
    "    onebike_df['Trip duration'].dt.total_seconds() # Must use .dt"
   ]
  },
  {
   "cell_type": "code",
   "execution_count": 75,
   "metadata": {},
   "outputs": [
    {
     "data": {
      "text/plain": [
       "0       181.0\n",
       "1      7622.0\n",
       "2       343.0\n",
       "3      1278.0\n",
       "4      1277.0\n",
       "        ...  \n",
       "285     651.0\n",
       "286     625.0\n",
       "287     279.0\n",
       "288     210.0\n",
       "289     610.0\n",
       "Name: Trip duration, Length: 290, dtype: float64"
      ]
     },
     "execution_count": 75,
     "metadata": {},
     "output_type": "execute_result"
    }
   ],
   "source": [
    "onebike_df['Trip duration']"
   ]
  },
  {
   "cell_type": "code",
   "execution_count": 77,
   "metadata": {},
   "outputs": [
    {
     "data": {
      "text/plain": [
       "Start date\n",
       "2017-10-31    1886.453704\n",
       "2017-11-30     854.174757\n",
       "2017-12-31     635.101266\n",
       "Freq: M, Name: Trip duration, dtype: float64"
      ]
     },
     "execution_count": 77,
     "metadata": {},
     "output_type": "execute_result"
    }
   ],
   "source": [
    "#Average trip duration by month of start date using .resample()\n",
    "rides = onebike_df\n",
    "rides.resample('M', on = 'Start date')[\n",
    "    'Trip duration'].mean()"
   ]
  },
  {
   "cell_type": "code",
   "execution_count": 80,
   "metadata": {},
   "outputs": [
    {
     "data": {
      "text/plain": [
       "Start date\n",
       "2017-10-01 15:23:25     181.0\n",
       "2017-10-01 15:42:57    7622.0\n",
       "2017-10-02 06:37:10     343.0\n",
       "2017-10-02 08:56:45    1278.0\n",
       "2017-10-02 18:23:48    1277.0\n",
       "                        ...  \n",
       "2017-12-29 14:32:55     651.0\n",
       "2017-12-29 15:08:26     625.0\n",
       "2017-12-29 20:33:34     279.0\n",
       "2017-12-30 13:51:03     210.0\n",
       "2017-12-30 15:09:03     610.0\n",
       "Name: Trip duration, Length: 290, dtype: float64"
      ]
     },
     "execution_count": 80,
     "metadata": {},
     "output_type": "execute_result"
    }
   ],
   "source": [
    "#Average trip duration in seconds by start date\n",
    "rides.groupby('Start date')['Trip duration'].mean()"
   ]
  },
  {
   "cell_type": "code",
   "execution_count": 83,
   "metadata": {},
   "outputs": [
    {
     "data": {
      "text/plain": [
       "Member type\n",
       "Casual     54\n",
       "Member    236\n",
       "dtype: int64"
      ]
     },
     "execution_count": 83,
     "metadata": {},
     "output_type": "execute_result"
    }
   ],
   "source": [
    "# Group by must have aggregate function\n",
    "rides.groupby('Member type').size()"
   ]
  },
  {
   "cell_type": "code",
   "execution_count": 85,
   "metadata": {},
   "outputs": [
    {
     "data": {
      "text/plain": [
       "Start date\n",
       "2017-10-01    AxesSubplot(0.125,0.11;0.775x0.77)\n",
       "2017-10-02    AxesSubplot(0.125,0.11;0.775x0.77)\n",
       "2017-10-03    AxesSubplot(0.125,0.11;0.775x0.77)\n",
       "2017-10-04    AxesSubplot(0.125,0.11;0.775x0.77)\n",
       "2017-10-05    AxesSubplot(0.125,0.11;0.775x0.77)\n",
       "                             ...                \n",
       "2017-12-26    AxesSubplot(0.125,0.11;0.775x0.77)\n",
       "2017-12-27    AxesSubplot(0.125,0.11;0.775x0.77)\n",
       "2017-12-28    AxesSubplot(0.125,0.11;0.775x0.77)\n",
       "2017-12-29    AxesSubplot(0.125,0.11;0.775x0.77)\n",
       "2017-12-30    AxesSubplot(0.125,0.11;0.775x0.77)\n",
       "Freq: D, Name: Trip duration, Length: 91, dtype: object"
      ]
     },
     "execution_count": 85,
     "metadata": {},
     "output_type": "execute_result"
    },
    {
     "data": {
      "image/png": "[encoded data removed]",
      "text/plain": [
       "<Figure size 640x480 with 1 Axes>"
      ]
     },
     "metadata": {},
     "output_type": "display_data"
    }
   ],
   "source": [
    "#Plot rides by day\n",
    "rides_by_day_duration = rides.resample('D', on='Start date')\\\n",
    "    ['Trip duration']\n",
    "  \n",
    "# Plotting the above (can also just chain to the end)  \n",
    "rides_by_day_duration.plot()"
   ]
  },
  {
   "attachments": {},
   "cell_type": "markdown",
   "metadata": {},
   "source": [
    "You can see two crazy outliers in this data - one trip that's really long, then one trip that is somehow under 0 seconds."
   ]
  },
  {
   "cell_type": "code",
   "execution_count": 86,
   "metadata": {},
   "outputs": [
    {
     "data": {
      "text/plain": [
       "<AxesSubplot:xlabel='Start date'>"
      ]
     },
     "execution_count": 86,
     "metadata": {},
     "output_type": "execute_result"
    },
    {
     "data": {
      "image/png": "[encoded data removed]",
      "text/plain": [
       "<Figure size 640x480 with 1 Axes>"
      ]
     },
     "metadata": {},
     "output_type": "display_data"
    }
   ],
   "source": [
    "# Same graph as above, but by mean\n",
    "rides_by_day_duration\\\n",
    "    .mean()\\\n",
    "        .plot()"
   ]
  },
  {
   "attachments": {},
   "cell_type": "markdown",
   "metadata": {},
   "source": [
    "You can see that this looks like a repair judging by how there were means of 0 time for the days beforehand. Makes sense that the bike was \"checked out\" for 7 hours for a repair."
   ]
  },
  {
   "cell_type": "markdown",
   "metadata": {},
   "source": []
  }
 ],
 "metadata": {
  "kernelspec": {
   "display_name": "base",
   "language": "python",
   "name": "python3"
  },
  "language_info": {
   "codemirror_mode": {
    "name": "ipython",
    "version": 3
   },
   "file_extension": ".py",
   "mimetype": "text/x-python",
   "name": "python",
   "nbconvert_exporter": "python",
   "pygments_lexer": "ipython3",
   "version": "3.9.15"
  },
  "orig_nbformat": 4,
  "vscode": {
   "interpreter": {
    "hash": "a345a3a79d4b6bd5e480ddf750d44eeab3f426a0af8a6d1a3c614a22f4e377a2"
   }
  }
 },
 "nbformat": 4,
 "nbformat_minor": 2
}
