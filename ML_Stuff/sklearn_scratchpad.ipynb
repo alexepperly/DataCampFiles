{
 "cells": [
  {
   "cell_type": "markdown",
   "metadata": {},
   "source": [
    "## Aye matey, this here be the sklearn scratchpad"
   ]
  },
  {
   "cell_type": "code",
   "execution_count": 8,
   "metadata": {},
   "outputs": [],
   "source": [
    "import sklearn\n",
    "from sklearn.metrics import roc_auc_score"
   ]
  },
  {
   "cell_type": "code",
   "execution_count": 2,
   "metadata": {},
   "outputs": [],
   "source": [
    "import pandas as pd\n",
    "import seaborn as sns\n"
   ]
  },
  {
   "cell_type": "code",
   "execution_count": 9,
   "metadata": {},
   "outputs": [
    {
     "name": "stdout",
     "output_type": "stream",
     "text": [
      "ROC AUC Score: 1.0\n"
     ]
    }
   ],
   "source": [
    "# From ChatGPT\n",
    "\n",
    "\n",
    "# True labels (ground truth)\n",
    "y_true = [0, 1, 1, 0, 1, 0, 0, 1, 0, 1]\n",
    "\n",
    "# Predicted probabilities for the positive class\n",
    "y_pred_prob = [0.2, 0.7, 0.6, 0.3, 0.8, 0.4, 0.1, 0.9, 0.3, 0.6]\n",
    "\n",
    "# Calculate ROC AUC score\n",
    "roc_auc = roc_auc_score(y_true, y_pred_prob)\n",
    "\n",
    "print(\"ROC AUC Score:\", roc_auc)\n",
    "\n"
   ]
  }
 ],
 "metadata": {
  "kernelspec": {
   "display_name": "ml_env",
   "language": "python",
   "name": "python3"
  },
  "language_info": {
   "codemirror_mode": {
    "name": "ipython",
    "version": 3
   },
   "file_extension": ".py",
   "mimetype": "text/x-python",
   "name": "python",
   "nbconvert_exporter": "python",
   "pygments_lexer": "ipython3",
   "version": "3.11.4"
  },
  "orig_nbformat": 4
 },
 "nbformat": 4,
 "nbformat_minor": 2
}
