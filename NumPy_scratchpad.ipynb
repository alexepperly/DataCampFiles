{
 "cells": [
  {
   "cell_type": "code",
   "execution_count": 2,
   "metadata": {},
   "outputs": [],
   "source": [
    "import numpy as np"
   ]
  },
  {
   "cell_type": "code",
   "execution_count": 3,
   "metadata": {},
   "outputs": [],
   "source": [
    "what_type = np.array([[6, 15.7], [True, False]])"
   ]
  },
  {
   "cell_type": "code",
   "execution_count": 4,
   "metadata": {},
   "outputs": [
    {
     "data": {
      "text/plain": [
       "dtype('float64')"
      ]
     },
     "execution_count": 4,
     "metadata": {},
     "output_type": "execute_result"
    }
   ],
   "source": [
    "what_type.dtype"
   ]
  },
  {
   "cell_type": "code",
   "execution_count": 12,
   "metadata": {},
   "outputs": [],
   "source": [
    "monthly_sales = np.array([[ 4134, 23925,  8657],\n",
    "                        [ 4116, 23875,  9142],\n",
    "                        [ 4673, 27197, 10645],\n",
    "                        [ 4580, 25637, 10456],\n",
    "                        [ 5109, 27995, 11299],\n",
    "                        [ 5011, 27419, 10625],\n",
    "                        [ 5245, 27305, 10630],\n",
    "                        [ 5270, 27760, 11550],\n",
    "                        [ 4680, 24988,  9762],\n",
    "                        [ 4913, 25802, 10456],\n",
    "                        [ 5312, 25405, 13401],\n",
    "                        [ 6630, 27797, 18403]])"
   ]
  },
  {
   "attachments": {},
   "cell_type": "markdown",
   "metadata": {},
   "source": [
    "### This is key: axis=0 USUALLY refers to rows, and axis=1 USUALLY refers to columns. However, with aggregating functions, think of what shape the END result will be. \n",
    "- If you are summing rows, for example, the end result will be another COLUMN of values\n",
    "    - Paradoxically, this will make it **\"axis=1\"** \n",
    "\n",
    "Check it out:"
   ]
  },
  {
   "cell_type": "code",
   "execution_count": 6,
   "metadata": {},
   "outputs": [
    {
     "data": {
      "text/plain": [
       "array([36716, 37133, 42515, 40673, 44403, 43055, 43180, 44580, 39430,\n",
       "       41171, 44118, 52830])"
      ]
     },
     "execution_count": 6,
     "metadata": {},
     "output_type": "execute_result"
    }
   ],
   "source": [
    "monthly_sales.sum(axis=1)"
   ]
  },
  {
   "cell_type": "code",
   "execution_count": 10,
   "metadata": {},
   "outputs": [
    {
     "name": "stdout",
     "output_type": "stream",
     "text": [
      "[[36716]\n",
      " [37133]\n",
      " [42515]\n",
      " [40673]\n",
      " [44403]\n",
      " [43055]\n",
      " [43180]\n",
      " [44580]\n",
      " [39430]\n",
      " [41171]\n",
      " [44118]\n",
      " [52830]]\n"
     ]
    }
   ],
   "source": [
    "# but let's keep the original dimensions\n",
    "sales_totals = monthly_sales.sum(axis=1, keepdims=True)\n",
    "print(sales_totals)"
   ]
  },
  {
   "cell_type": "code",
   "execution_count": 14,
   "metadata": {},
   "outputs": [
    {
     "name": "stdout",
     "output_type": "stream",
     "text": [
      "[[ 4134 23925  8657 36716]\n",
      " [ 4116 23875  9142 37133]\n",
      " [ 4673 27197 10645 42515]\n",
      " [ 4580 25637 10456 40673]\n",
      " [ 5109 27995 11299 44403]\n",
      " [ 5011 27419 10625 43055]\n",
      " [ 5245 27305 10630 43180]\n",
      " [ 5270 27760 11550 44580]\n",
      " [ 4680 24988  9762 39430]\n",
      " [ 4913 25802 10456 41171]\n",
      " [ 5312 25405 13401 44118]\n",
      " [ 6630 27797 18403 52830]]\n"
     ]
    }
   ],
   "source": [
    "# Now let's append sales_totals to monthly_sales\n",
    "monthly_sales_plus_totals = np.append(monthly_sales, sales_totals, axis=1)\n",
    "\n",
    "#...and as you can see, axis=1 means we're appending to the columns\n",
    "print(monthly_sales_plus_totals)"
   ]
  },
  {
   "attachments": {},
   "cell_type": "markdown",
   "metadata": {},
   "source": [
    " And here, we're going to do the same thing, but take the mean of the columns.\n",
    " - This results in a 1D array. Because the mean of the columns is an action upon the rows, we'll use **_axis=0_**"
   ]
  },
  {
   "cell_type": "code",
   "execution_count": 20,
   "metadata": {},
   "outputs": [
    {
     "name": "stdout",
     "output_type": "stream",
     "text": [
      "[[ 4972.75       26258.75       11252.16666667]]\n"
     ]
    }
   ],
   "source": [
    "# Note: We need keepdims=True to keep the dimensions because even though it looks like a 1D array will work to append,\n",
    "# it really will not.\n",
    "avg_monthly_sales = monthly_sales.mean(axis=0, keepdims=True) \n",
    "print(avg_monthly_sales)"
   ]
  },
  {
   "cell_type": "code",
   "execution_count": 21,
   "metadata": {},
   "outputs": [
    {
     "name": "stdout",
     "output_type": "stream",
     "text": [
      "[[ 4134.         23925.          8657.        ]\n",
      " [ 4116.         23875.          9142.        ]\n",
      " [ 4673.         27197.         10645.        ]\n",
      " [ 4580.         25637.         10456.        ]\n",
      " [ 5109.         27995.         11299.        ]\n",
      " [ 5011.         27419.         10625.        ]\n",
      " [ 5245.         27305.         10630.        ]\n",
      " [ 5270.         27760.         11550.        ]\n",
      " [ 4680.         24988.          9762.        ]\n",
      " [ 4913.         25802.         10456.        ]\n",
      " [ 5312.         25405.         13401.        ]\n",
      " [ 6630.         27797.         18403.        ]\n",
      " [ 4972.75       26258.75       11252.16666667]]\n"
     ]
    }
   ],
   "source": [
    "# Now let's append avg_monthly_sales to monthly_sales\n",
    "# Note: this is only possible because we have maintained the 2D shape above.\n",
    "\n",
    "monthly_sales_plus_avg = np.concatenate([monthly_sales, avg_monthly_sales], axis=0)\n",
    "print(monthly_sales_plus_avg)"
   ]
  },
  {
   "attachments": {},
   "cell_type": "markdown",
   "metadata": {},
   "source": [
    "## This is super-useful -- vectorizing functions"
   ]
  },
  {
   "cell_type": "code",
   "execution_count": 23,
   "metadata": {},
   "outputs": [
    {
     "name": "stdout",
     "output_type": "stream",
     "text": [
      "[['IZZY' 'MONICA' 'MARVIN']\n",
      " ['WEBER' 'PATEL' 'HERNANDEZ']]\n"
     ]
    }
   ],
   "source": [
    "names = np.array([[\"Izzy\", \"Monica\", \"Marvin\"],\n",
    "                  [\"Weber\", \"Patel\", \"Hernandez\"]])\n",
    "\n",
    "# Vectorize the .upper() string method\n",
    "vectorized_upper = np.vectorize(str.upper) # make sure to use str.upper, not .upper\n",
    "\n",
    "# Apply vectorized_upper to the names array\n",
    "uppercase_names = vectorized_upper(names)\n",
    "print(uppercase_names)"
   ]
  },
  {
   "cell_type": "code",
   "execution_count": null,
   "metadata": {},
   "outputs": [],
   "source": []
  }
 ],
 "metadata": {
  "kernelspec": {
   "display_name": "base",
   "language": "python",
   "name": "python3"
  },
  "language_info": {
   "codemirror_mode": {
    "name": "ipython",
    "version": 3
   },
   "file_extension": ".py",
   "mimetype": "text/x-python",
   "name": "python",
   "nbconvert_exporter": "python",
   "pygments_lexer": "ipython3",
   "version": "3.9.13"
  },
  "orig_nbformat": 4,
  "vscode": {
   "interpreter": {
    "hash": "6c8cc8647ebf403b857d25ed328e508caadb783958adc1e937bc6a6f45e567cf"
   }
  }
 },
 "nbformat": 4,
 "nbformat_minor": 2
}
