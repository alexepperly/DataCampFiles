{
 "cells": [
  {
   "cell_type": "code",
   "execution_count": 1,
   "metadata": {},
   "outputs": [
    {
     "name": "stdout",
     "output_type": "stream",
     "text": [
      "True\n"
     ]
    }
   ],
   "source": [
    "def binary_search_recursive(ordered_list, search_value):\n",
    "    # Define the base case\n",
    "    if len(ordered_list) == 0:\n",
    "        return False\n",
    "    else:\n",
    "        middle = len(ordered_list)//2\n",
    "        # Check whether the search value equals the value in the middle\n",
    "        if search_value == ordered_list[middle]:\n",
    "            return True\n",
    "        elif search_value < ordered_list[middle]:\n",
    "            # Call recursively with the left half of the list\n",
    "            return binary_search_recursive(ordered_list[:middle], search_value)\n",
    "        else:\n",
    "            # Call recursively with the right half of the list\n",
    "            return binary_search_recursive(ordered_list[middle+1:], search_value)\n",
    "\n",
    "print(binary_search_recursive([1,5,8,9,15,20,70,72], 5))\n"
   ]
  },
  {
   "cell_type": "code",
   "execution_count": 4,
   "metadata": {},
   "outputs": [],
   "source": [
    "# generate ordered list of 100000 numbers\n",
    "ordered_list_100000 = list(range(100000))"
   ]
  },
  {
   "cell_type": "code",
   "execution_count": 5,
   "metadata": {},
   "outputs": [
    {
     "data": {
      "text/plain": [
       "True"
      ]
     },
     "execution_count": 5,
     "metadata": {},
     "output_type": "execute_result"
    }
   ],
   "source": [
    "binary_search_recursive(ordered_list_100000, 1)"
   ]
  }
 ],
 "metadata": {
  "kernelspec": {
   "display_name": "base",
   "language": "python",
   "name": "python3"
  },
  "language_info": {
   "codemirror_mode": {
    "name": "ipython",
    "version": 3
   },
   "file_extension": ".py",
   "mimetype": "text/x-python",
   "name": "python",
   "nbconvert_exporter": "python",
   "pygments_lexer": "ipython3",
   "version": "3.9.13"
  },
  "orig_nbformat": 4,
  "vscode": {
   "interpreter": {
    "hash": "6c8cc8647ebf403b857d25ed328e508caadb783958adc1e937bc6a6f45e567cf"
   }
  }
 },
 "nbformat": 4,
 "nbformat_minor": 2
}
