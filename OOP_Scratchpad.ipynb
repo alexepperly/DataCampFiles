{
 "cells": [
  {
   "cell_type": "code",
   "execution_count": 1,
   "metadata": {},
   "outputs": [],
   "source": [
    "class Parent:\n",
    "    def talk(self):\n",
    "        print(\"Parent talking!\")     \n",
    "\n",
    "class Child(Parent):\n",
    "    def talk(self):\n",
    "        print(\"Child talking!\")          \n",
    "\n",
    "class TalkativeChild(Parent):\n",
    "    def talk(self):\n",
    "        print(\"TalkativeChild talking!\")\n",
    "        Parent.talk(self)"
   ]
  },
  {
   "cell_type": "code",
   "execution_count": 2,
   "metadata": {},
   "outputs": [
    {
     "name": "stdout",
     "output_type": "stream",
     "text": [
      "Parent talking!\n",
      "Child talking!\n",
      "TalkativeChild talking!\n",
      "Parent talking!\n"
     ]
    }
   ],
   "source": [
    "p, c, tc = Parent(), Child(), TalkativeChild()\n",
    "\n",
    "for obj in (p, c, tc):\n",
    "    obj.talk()"
   ]
  },
  {
   "cell_type": "code",
   "execution_count": 1,
   "metadata": {},
   "outputs": [
    {
     "ename": "SyntaxError",
     "evalue": "cannot assign to literal here. Maybe you meant '==' instead of '='? (2854447747.py, line 9)",
     "output_type": "error",
     "traceback": [
      "\u001b[0;36m  Cell \u001b[0;32mIn[1], line 9\u001b[0;36m\u001b[0m\n\u001b[0;31m    self.server = TSC.Server(\"address.com\", use_server_version=True, http_options={\"verify\"=False})\u001b[0m\n\u001b[0m                                                                                   ^\u001b[0m\n\u001b[0;31mSyntaxError\u001b[0m\u001b[0;31m:\u001b[0m cannot assign to literal here. Maybe you meant '==' instead of '='?\n"
     ]
    }
   ],
   "source": [
    "import tableauserverclient as TSC\n",
    "\n",
    "class TableauAuthenticate:\n",
    "    def __init__(self, tableau_auth, server):\n",
    "        TOKEN_NAME = \"python\"\n",
    "        PAT = input(r\"Input your PAT:\")\n",
    "    \n",
    "        self.tableau_auth = TSC.PersonalAccessTokenAuth(TOKEN_NAME, PAT, site_id='Enterprise')\n",
    "        self.server = TSC.Server(\"address.com\", use_server_version=True, http_options={\"verify\"=False})\n",
    "        \n",
    "    def tableau_sign_in(self):\n",
    "        \n",
    "        try:\n",
    "            self.server.auth.sign_in(self.tableau_auth)\n",
    "            print(\"Logged in!\")\n",
    "        except:\n",
    "            print(\"Login failed!\")\n",
    "    \n",
    "    def tableau_sign_out(self):\n",
    "        self.server.auth.sign_out()\n",
    "        "
   ]
  }
 ],
 "metadata": {
  "kernelspec": {
   "display_name": "mongo_env",
   "language": "python",
   "name": "python3"
  },
  "language_info": {
   "codemirror_mode": {
    "name": "ipython",
    "version": 3
   },
   "file_extension": ".py",
   "mimetype": "text/x-python",
   "name": "python",
   "nbconvert_exporter": "python",
   "pygments_lexer": "ipython3",
   "version": "3.11.0"
  },
  "orig_nbformat": 4
 },
 "nbformat": 4,
 "nbformat_minor": 2
}
