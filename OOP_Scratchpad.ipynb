{
 "cells": [
  {
   "cell_type": "code",
   "execution_count": 1,
   "metadata": {},
   "outputs": [],
   "source": [
    "class Parent:\n",
    "    def talk(self):\n",
    "        print(\"Parent talking!\")     \n",
    "\n",
    "class Child(Parent):\n",
    "    def talk(self):\n",
    "        print(\"Child talking!\")          \n",
    "\n",
    "class TalkativeChild(Parent):\n",
    "    def talk(self):\n",
    "        print(\"TalkativeChild talking!\")\n",
    "        Parent.talk(self)"
   ]
  },
  {
   "cell_type": "code",
   "execution_count": 2,
   "metadata": {},
   "outputs": [
    {
     "name": "stdout",
     "output_type": "stream",
     "text": [
      "Parent talking!\n",
      "Child talking!\n",
      "TalkativeChild talking!\n",
      "Parent talking!\n"
     ]
    }
   ],
   "source": [
    "p, c, tc = Parent(), Child(), TalkativeChild()\n",
    "\n",
    "for obj in (p, c, tc):\n",
    "    obj.talk()"
   ]
  },
  {
   "cell_type": "code",
   "execution_count": null,
   "metadata": {},
   "outputs": [],
   "source": [
    "import tableauserverclient as TSC\n",
    "\n",
    "class TableauAuthenticate:\n",
    "    def __init__(self, tableau_auth, server):\n",
    "        TOKEN_NAME = \"python\"\n",
    "        PAT = input(r\"Input your PAT:\")\n",
    "    \n",
    "        self.tableau_auth = TSC.PersonalAccessTokenAuth(TOKEN_NAME, PAT, site_id='Enterprise')\n",
    "        self.server = TSC.Server(\"address.com\", use_server_version=True, http_options={\"verify\"=False})\n",
    "        \n",
    "    def tableau_sign_in(self):\n",
    "        \n",
    "        try:\n",
    "            self.server.auth.sign_in(self.tableau_auth)\n",
    "            print(\"Logged in!\")\n",
    "        except:\n",
    "            print(\"Login failed!\")\n",
    "    \n",
    "    def tableau_sign_out(self):\n",
    "        self.server.auth.sign_out()\n",
    "        "
   ]
  }
 ],
 "metadata": {
  "kernelspec": {
   "display_name": "base",
   "language": "python",
   "name": "python3"
  },
  "language_info": {
   "codemirror_mode": {
    "name": "ipython",
    "version": 3
   },
   "file_extension": ".py",
   "mimetype": "text/x-python",
   "name": "python",
   "nbconvert_exporter": "python",
   "pygments_lexer": "ipython3",
   "version": "3.9.15"
  },
  "orig_nbformat": 4,
  "vscode": {
   "interpreter": {
    "hash": "a345a3a79d4b6bd5e480ddf750d44eeab3f426a0af8a6d1a3c614a22f4e377a2"
   }
  }
 },
 "nbformat": 4,
 "nbformat_minor": 2
}
