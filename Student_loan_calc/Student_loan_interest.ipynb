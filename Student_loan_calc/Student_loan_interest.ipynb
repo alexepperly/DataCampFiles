{
 "cells": [
  {
   "cell_type": "markdown",
   "metadata": {},
   "source": [
    "# Calculate Student Loan Interest"
   ]
  },
  {
   "cell_type": "code",
   "execution_count": null,
   "metadata": {},
   "outputs": [],
   "source": [
    "def calculate_daily_interest(principal, apr):\n",
    "    daily_interest_rate = apr / 36500  # Convert APR to daily rate\n",
    "    daily_interest_amount = principal * daily_interest_rate\n",
    "    return daily_interest_amount"
   ]
  },
  {
   "cell_type": "code",
   "execution_count": null,
   "metadata": {},
   "outputs": [],
   "source": [
    "# Loan AA\n",
    "principal_aa = 8364.33\n",
    "apr_aa = 6.21\n",
    "daily_interest_aa = calculate_daily_interest(principal_aa, apr_aa)\n",
    "print(f\"Daily interest on Loan AA: ${daily_interest_aa:.2f}\")"
   ]
  },
  {
   "cell_type": "code",
   "execution_count": null,
   "metadata": {},
   "outputs": [],
   "source": [
    "# Loan AC\n",
    "principal_ac = 9092.32\n",
    "apr_ac = 5.84\n",
    "daily_interest_ac = calculate_daily_interest(principal_ac, apr_ac)\n",
    "print(f\"Daily interest on Loan AC: ${daily_interest_ac:.2f}\")"
   ]
  }
 ],
 "metadata": {
  "language_info": {
   "name": "python"
  },
  "orig_nbformat": 4
 },
 "nbformat": 4,
 "nbformat_minor": 2
}
