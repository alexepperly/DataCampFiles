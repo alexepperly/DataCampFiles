{
 "cells": [
  {
   "cell_type": "code",
   "execution_count": 1,
   "metadata": {},
   "outputs": [],
   "source": [
    "from functools import wraps"
   ]
  },
  {
   "cell_type": "code",
   "execution_count": 9,
   "metadata": {},
   "outputs": [
    {
     "name": "stdout",
     "output_type": "stream",
     "text": [
      "8\n",
      "8\n",
      "8\n"
     ]
    }
   ],
   "source": [
    "def run_3_times(func):\n",
    "    def wrapper(*args, **kwargs):\n",
    "        for i in range(3):\n",
    "            func(*args, *kwargs)\n",
    "    return wrapper\n",
    "    \n",
    "\n",
    "@run_3_times\n",
    "def print_sum(a, b):\n",
    "    print(a + b)\n",
    "\n",
    "print_sum(3, 5)"
   ]
  },
  {
   "cell_type": "code",
   "execution_count": 7,
   "metadata": {},
   "outputs": [
    {
     "name": "stdout",
     "output_type": "stream",
     "text": [
      "8\n",
      "8\n",
      "8\n",
      "8\n",
      "8\n",
      "8\n",
      "8\n",
      "8\n",
      "8\n",
      "8\n",
      "8\n",
      "8\n",
      "8\n",
      "8\n",
      "8\n",
      "8\n",
      "8\n"
     ]
    }
   ],
   "source": [
    "# To be able to use an arg in the decorator,\n",
    "# you have to wrap the wrapper in a decorator\n",
    "# function. Very meta.\n",
    "\n",
    "def run_n_times(n):\n",
    "    def decorator(func):\n",
    "        def wrapper(*args, **kwargs):\n",
    "            for i in range(n):\n",
    "                func(*args, *kwargs)\n",
    "        return wrapper\n",
    "    return decorator\n",
    "\n",
    "@run_n_times(17)\n",
    "def print_sum(a, b):\n",
    "    print(a + b)\n",
    "\n",
    "print_sum(3, 5)"
   ]
  },
  {
   "cell_type": "code",
   "execution_count": null,
   "metadata": {},
   "outputs": [],
   "source": []
  }
 ],
 "metadata": {
  "kernelspec": {
   "display_name": "base",
   "language": "python",
   "name": "python3"
  },
  "language_info": {
   "codemirror_mode": {
    "name": "ipython",
    "version": 3
   },
   "file_extension": ".py",
   "mimetype": "text/x-python",
   "name": "python",
   "nbconvert_exporter": "python",
   "pygments_lexer": "ipython3",
   "version": "3.9.12"
  },
  "orig_nbformat": 4,
  "vscode": {
   "interpreter": {
    "hash": "ba4959ed769923c7c7779cf615c3f4552d8348c3c788a158f96a2a3da27ac90d"
   }
  }
 },
 "nbformat": 4,
 "nbformat_minor": 2
}
